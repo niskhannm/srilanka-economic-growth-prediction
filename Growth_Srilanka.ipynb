{
 "cells": [
  {
   "cell_type": "code",
   "execution_count": 5,
   "id": "ed052b5f",
   "metadata": {},
   "outputs": [],
   "source": [
    "import numpy as np\n",
    "import pandas as pd\n",
    "import matplotlib.pyplot as plt\n",
    "import seaborn as sns\n",
    "%matplotlib inline\n",
    "\n",
    "# Modelling\n",
    "from sklearn.metrics import mean_squared_error, r2_score\n",
    "from sklearn.neighbors import KNeighborsRegressor\n",
    "from sklearn.tree import DecisionTreeRegressor\n",
    "from sklearn.ensemble import RandomForestRegressor,AdaBoostRegressor\n",
    "from sklearn.svm import SVR\n",
    "from sklearn.linear_model import LinearRegression, Ridge,Lasso\n",
    "from sklearn.metrics import r2_score, mean_absolute_error, mean_squared_error\n",
    "from sklearn.model_selection import RandomizedSearchCV\n",
    "from xgboost import XGBRegressor\n",
    "import warnings"
   ]
  },
  {
   "cell_type": "code",
   "execution_count": 6,
   "id": "e17e5986",
   "metadata": {},
   "outputs": [],
   "source": [
    "data=pd.read_csv('Growth.csv')"
   ]
  },
  {
   "cell_type": "code",
   "execution_count": 7,
   "id": "49f2c7b4",
   "metadata": {},
   "outputs": [
    {
     "data": {
      "text/html": [
       "<div>\n",
       "<style scoped>\n",
       "    .dataframe tbody tr th:only-of-type {\n",
       "        vertical-align: middle;\n",
       "    }\n",
       "\n",
       "    .dataframe tbody tr th {\n",
       "        vertical-align: top;\n",
       "    }\n",
       "\n",
       "    .dataframe thead th {\n",
       "        text-align: right;\n",
       "    }\n",
       "</style>\n",
       "<table border=\"1\" class=\"dataframe\">\n",
       "  <thead>\n",
       "    <tr style=\"text-align: right;\">\n",
       "      <th></th>\n",
       "      <th>Population</th>\n",
       "      <th>PerCapita</th>\n",
       "      <th>Trade</th>\n",
       "      <th>Health</th>\n",
       "      <th>Unemployment</th>\n",
       "      <th>Environment</th>\n",
       "      <th>Growth</th>\n",
       "    </tr>\n",
       "  </thead>\n",
       "  <tbody>\n",
       "    <tr>\n",
       "      <th>0</th>\n",
       "      <td>7945977</td>\n",
       "      <td>162.1844</td>\n",
       "      <td>-0.122353</td>\n",
       "      <td>91.5259</td>\n",
       "      <td>13.82</td>\n",
       "      <td>10848.0</td>\n",
       "      <td>1.83</td>\n",
       "    </tr>\n",
       "    <tr>\n",
       "      <th>1</th>\n",
       "      <td>8091461</td>\n",
       "      <td>185.3671</td>\n",
       "      <td>-0.072269</td>\n",
       "      <td>98.5637</td>\n",
       "      <td>13.03</td>\n",
       "      <td>11385.2</td>\n",
       "      <td>1.90</td>\n",
       "    </tr>\n",
       "    <tr>\n",
       "      <th>2</th>\n",
       "      <td>8245475</td>\n",
       "      <td>187.2283</td>\n",
       "      <td>-0.047386</td>\n",
       "      <td>106.1440</td>\n",
       "      <td>12.27</td>\n",
       "      <td>12412.3</td>\n",
       "      <td>1.96</td>\n",
       "    </tr>\n",
       "    <tr>\n",
       "      <th>3</th>\n",
       "      <td>8406910</td>\n",
       "      <td>197.7579</td>\n",
       "      <td>-0.040201</td>\n",
       "      <td>116.3432</td>\n",
       "      <td>11.35</td>\n",
       "      <td>12868.2</td>\n",
       "      <td>2.00</td>\n",
       "    </tr>\n",
       "    <tr>\n",
       "      <th>4</th>\n",
       "      <td>8575075</td>\n",
       "      <td>218.3510</td>\n",
       "      <td>-0.034844</td>\n",
       "      <td>110.8334</td>\n",
       "      <td>10.60</td>\n",
       "      <td>13984.4</td>\n",
       "      <td>2.04</td>\n",
       "    </tr>\n",
       "  </tbody>\n",
       "</table>\n",
       "</div>"
      ],
      "text/plain": [
       "   Population  PerCapita     Trade    Health  Unemployment  Environment  \\\n",
       "0     7945977   162.1844 -0.122353   91.5259         13.82      10848.0   \n",
       "1     8091461   185.3671 -0.072269   98.5637         13.03      11385.2   \n",
       "2     8245475   187.2283 -0.047386  106.1440         12.27      12412.3   \n",
       "3     8406910   197.7579 -0.040201  116.3432         11.35      12868.2   \n",
       "4     8575075   218.3510 -0.034844  110.8334         10.60      13984.4   \n",
       "\n",
       "   Growth  \n",
       "0    1.83  \n",
       "1    1.90  \n",
       "2    1.96  \n",
       "3    2.00  \n",
       "4    2.04  "
      ]
     },
     "execution_count": 7,
     "metadata": {},
     "output_type": "execute_result"
    }
   ],
   "source": [
    "data.head()"
   ]
  },
  {
   "cell_type": "code",
   "execution_count": 8,
   "id": "6d5b89bf",
   "metadata": {},
   "outputs": [
    {
     "name": "stdout",
     "output_type": "stream",
     "text": [
      "<class 'pandas.core.frame.DataFrame'>\n",
      "RangeIndex: 74 entries, 0 to 73\n",
      "Data columns (total 7 columns):\n",
      " #   Column        Non-Null Count  Dtype  \n",
      "---  ------        --------------  -----  \n",
      " 0   Population    74 non-null     int64  \n",
      " 1   PerCapita     74 non-null     float64\n",
      " 2   Trade         74 non-null     float64\n",
      " 3   Health        74 non-null     float64\n",
      " 4   Unemployment  74 non-null     float64\n",
      " 5   Environment   74 non-null     float64\n",
      " 6   Growth        74 non-null     float64\n",
      "dtypes: float64(6), int64(1)\n",
      "memory usage: 4.2 KB\n"
     ]
    }
   ],
   "source": [
    "data.info()"
   ]
  },
  {
   "cell_type": "code",
   "execution_count": 9,
   "id": "ad959470",
   "metadata": {},
   "outputs": [
    {
     "data": {
      "text/html": [
       "<div>\n",
       "<style scoped>\n",
       "    .dataframe tbody tr th:only-of-type {\n",
       "        vertical-align: middle;\n",
       "    }\n",
       "\n",
       "    .dataframe tbody tr th {\n",
       "        vertical-align: top;\n",
       "    }\n",
       "\n",
       "    .dataframe thead th {\n",
       "        text-align: right;\n",
       "    }\n",
       "</style>\n",
       "<table border=\"1\" class=\"dataframe\">\n",
       "  <thead>\n",
       "    <tr style=\"text-align: right;\">\n",
       "      <th></th>\n",
       "      <th>Population</th>\n",
       "      <th>PerCapita</th>\n",
       "      <th>Trade</th>\n",
       "      <th>Health</th>\n",
       "      <th>Unemployment</th>\n",
       "      <th>Environment</th>\n",
       "      <th>Growth</th>\n",
       "    </tr>\n",
       "  </thead>\n",
       "  <tbody>\n",
       "    <tr>\n",
       "      <th>count</th>\n",
       "      <td>7.400000e+01</td>\n",
       "      <td>74.000000</td>\n",
       "      <td>74.000000</td>\n",
       "      <td>74.000000</td>\n",
       "      <td>74.000000</td>\n",
       "      <td>74.000000</td>\n",
       "      <td>74.000000</td>\n",
       "    </tr>\n",
       "    <tr>\n",
       "      <th>mean</th>\n",
       "      <td>1.577405e+07</td>\n",
       "      <td>1110.118619</td>\n",
       "      <td>-1.331458</td>\n",
       "      <td>116.226327</td>\n",
       "      <td>7.366946</td>\n",
       "      <td>13909.881081</td>\n",
       "      <td>1.385270</td>\n",
       "    </tr>\n",
       "    <tr>\n",
       "      <th>std</th>\n",
       "      <td>4.460055e+06</td>\n",
       "      <td>1373.914004</td>\n",
       "      <td>1.807432</td>\n",
       "      <td>39.127930</td>\n",
       "      <td>2.826959</td>\n",
       "      <td>5079.842344</td>\n",
       "      <td>0.710028</td>\n",
       "    </tr>\n",
       "    <tr>\n",
       "      <th>min</th>\n",
       "      <td>7.945977e+06</td>\n",
       "      <td>117.962300</td>\n",
       "      <td>-6.541885</td>\n",
       "      <td>41.305000</td>\n",
       "      <td>3.880000</td>\n",
       "      <td>5091.300000</td>\n",
       "      <td>0.250000</td>\n",
       "    </tr>\n",
       "    <tr>\n",
       "      <th>25%</th>\n",
       "      <td>1.191491e+07</td>\n",
       "      <td>202.906175</td>\n",
       "      <td>-1.377518</td>\n",
       "      <td>98.563700</td>\n",
       "      <td>4.780000</td>\n",
       "      <td>10928.900000</td>\n",
       "      <td>0.827500</td>\n",
       "    </tr>\n",
       "    <tr>\n",
       "      <th>50%</th>\n",
       "      <td>1.643257e+07</td>\n",
       "      <td>398.175250</td>\n",
       "      <td>-0.747307</td>\n",
       "      <td>134.669250</td>\n",
       "      <td>7.670000</td>\n",
       "      <td>12868.200000</td>\n",
       "      <td>1.370000</td>\n",
       "    </tr>\n",
       "    <tr>\n",
       "      <th>75%</th>\n",
       "      <td>1.962801e+07</td>\n",
       "      <td>1195.422950</td>\n",
       "      <td>-0.075159</td>\n",
       "      <td>146.950300</td>\n",
       "      <td>8.850000</td>\n",
       "      <td>17440.400000</td>\n",
       "      <td>1.995000</td>\n",
       "    </tr>\n",
       "    <tr>\n",
       "      <th>max</th>\n",
       "      <td>2.189358e+07</td>\n",
       "      <td>4388.201900</td>\n",
       "      <td>0.150169</td>\n",
       "      <td>159.464700</td>\n",
       "      <td>14.220000</td>\n",
       "      <td>23427.900000</td>\n",
       "      <td>2.440000</td>\n",
       "    </tr>\n",
       "  </tbody>\n",
       "</table>\n",
       "</div>"
      ],
      "text/plain": [
       "         Population    PerCapita      Trade      Health  Unemployment  \\\n",
       "count  7.400000e+01    74.000000  74.000000   74.000000     74.000000   \n",
       "mean   1.577405e+07  1110.118619  -1.331458  116.226327      7.366946   \n",
       "std    4.460055e+06  1373.914004   1.807432   39.127930      2.826959   \n",
       "min    7.945977e+06   117.962300  -6.541885   41.305000      3.880000   \n",
       "25%    1.191491e+07   202.906175  -1.377518   98.563700      4.780000   \n",
       "50%    1.643257e+07   398.175250  -0.747307  134.669250      7.670000   \n",
       "75%    1.962801e+07  1195.422950  -0.075159  146.950300      8.850000   \n",
       "max    2.189358e+07  4388.201900   0.150169  159.464700     14.220000   \n",
       "\n",
       "        Environment     Growth  \n",
       "count     74.000000  74.000000  \n",
       "mean   13909.881081   1.385270  \n",
       "std     5079.842344   0.710028  \n",
       "min     5091.300000   0.250000  \n",
       "25%    10928.900000   0.827500  \n",
       "50%    12868.200000   1.370000  \n",
       "75%    17440.400000   1.995000  \n",
       "max    23427.900000   2.440000  "
      ]
     },
     "execution_count": 9,
     "metadata": {},
     "output_type": "execute_result"
    }
   ],
   "source": [
    "data.describe()"
   ]
  },
  {
   "cell_type": "code",
   "execution_count": 10,
   "id": "7ec9ff14",
   "metadata": {},
   "outputs": [
    {
     "data": {
      "text/plain": [
       "Population      0\n",
       "PerCapita       0\n",
       "Trade           0\n",
       "Health          0\n",
       "Unemployment    0\n",
       "Environment     0\n",
       "Growth          0\n",
       "dtype: int64"
      ]
     },
     "execution_count": 10,
     "metadata": {},
     "output_type": "execute_result"
    }
   ],
   "source": [
    "data.isnull().sum()"
   ]
  },
  {
   "cell_type": "code",
   "execution_count": 11,
   "id": "3c263e8a",
   "metadata": {},
   "outputs": [
    {
     "data": {
      "text/html": [
       "<div>\n",
       "<style scoped>\n",
       "    .dataframe tbody tr th:only-of-type {\n",
       "        vertical-align: middle;\n",
       "    }\n",
       "\n",
       "    .dataframe tbody tr th {\n",
       "        vertical-align: top;\n",
       "    }\n",
       "\n",
       "    .dataframe thead th {\n",
       "        text-align: right;\n",
       "    }\n",
       "</style>\n",
       "<table border=\"1\" class=\"dataframe\">\n",
       "  <thead>\n",
       "    <tr style=\"text-align: right;\">\n",
       "      <th></th>\n",
       "      <th>Population</th>\n",
       "      <th>PerCapita</th>\n",
       "      <th>Trade</th>\n",
       "      <th>Health</th>\n",
       "      <th>Unemployment</th>\n",
       "      <th>Environment</th>\n",
       "      <th>Growth</th>\n",
       "    </tr>\n",
       "  </thead>\n",
       "  <tbody>\n",
       "    <tr>\n",
       "      <th>Population</th>\n",
       "      <td>1.000000</td>\n",
       "      <td>0.762442</td>\n",
       "      <td>-0.694403</td>\n",
       "      <td>-0.135073</td>\n",
       "      <td>-0.456197</td>\n",
       "      <td>0.192189</td>\n",
       "      <td>-0.935902</td>\n",
       "    </tr>\n",
       "    <tr>\n",
       "      <th>PerCapita</th>\n",
       "      <td>0.762442</td>\n",
       "      <td>1.000000</td>\n",
       "      <td>-0.749847</td>\n",
       "      <td>0.151943</td>\n",
       "      <td>-0.434199</td>\n",
       "      <td>0.458497</td>\n",
       "      <td>-0.791256</td>\n",
       "    </tr>\n",
       "    <tr>\n",
       "      <th>Trade</th>\n",
       "      <td>-0.694403</td>\n",
       "      <td>-0.749847</td>\n",
       "      <td>1.000000</td>\n",
       "      <td>0.047613</td>\n",
       "      <td>0.404720</td>\n",
       "      <td>-0.155717</td>\n",
       "      <td>0.654954</td>\n",
       "    </tr>\n",
       "    <tr>\n",
       "      <th>Health</th>\n",
       "      <td>-0.135073</td>\n",
       "      <td>0.151943</td>\n",
       "      <td>0.047613</td>\n",
       "      <td>1.000000</td>\n",
       "      <td>0.069480</td>\n",
       "      <td>0.273130</td>\n",
       "      <td>0.084332</td>\n",
       "    </tr>\n",
       "    <tr>\n",
       "      <th>Unemployment</th>\n",
       "      <td>-0.456197</td>\n",
       "      <td>-0.434199</td>\n",
       "      <td>0.404720</td>\n",
       "      <td>0.069480</td>\n",
       "      <td>1.000000</td>\n",
       "      <td>-0.309198</td>\n",
       "      <td>0.276133</td>\n",
       "    </tr>\n",
       "    <tr>\n",
       "      <th>Environment</th>\n",
       "      <td>0.192189</td>\n",
       "      <td>0.458497</td>\n",
       "      <td>-0.155717</td>\n",
       "      <td>0.273130</td>\n",
       "      <td>-0.309198</td>\n",
       "      <td>1.000000</td>\n",
       "      <td>-0.161673</td>\n",
       "    </tr>\n",
       "    <tr>\n",
       "      <th>Growth</th>\n",
       "      <td>-0.935902</td>\n",
       "      <td>-0.791256</td>\n",
       "      <td>0.654954</td>\n",
       "      <td>0.084332</td>\n",
       "      <td>0.276133</td>\n",
       "      <td>-0.161673</td>\n",
       "      <td>1.000000</td>\n",
       "    </tr>\n",
       "  </tbody>\n",
       "</table>\n",
       "</div>"
      ],
      "text/plain": [
       "              Population  PerCapita     Trade    Health  Unemployment  \\\n",
       "Population      1.000000   0.762442 -0.694403 -0.135073     -0.456197   \n",
       "PerCapita       0.762442   1.000000 -0.749847  0.151943     -0.434199   \n",
       "Trade          -0.694403  -0.749847  1.000000  0.047613      0.404720   \n",
       "Health         -0.135073   0.151943  0.047613  1.000000      0.069480   \n",
       "Unemployment   -0.456197  -0.434199  0.404720  0.069480      1.000000   \n",
       "Environment     0.192189   0.458497 -0.155717  0.273130     -0.309198   \n",
       "Growth         -0.935902  -0.791256  0.654954  0.084332      0.276133   \n",
       "\n",
       "              Environment    Growth  \n",
       "Population       0.192189 -0.935902  \n",
       "PerCapita        0.458497 -0.791256  \n",
       "Trade           -0.155717  0.654954  \n",
       "Health           0.273130  0.084332  \n",
       "Unemployment    -0.309198  0.276133  \n",
       "Environment      1.000000 -0.161673  \n",
       "Growth          -0.161673  1.000000  "
      ]
     },
     "execution_count": 11,
     "metadata": {},
     "output_type": "execute_result"
    }
   ],
   "source": [
    "data.corr()"
   ]
  },
  {
   "cell_type": "code",
   "execution_count": 12,
   "id": "7b1fc827",
   "metadata": {},
   "outputs": [
    {
     "data": {
      "text/plain": [
       "<Axes: >"
      ]
     },
     "execution_count": 12,
     "metadata": {},
     "output_type": "execute_result"
    },
    {
     "data": {
      "image/png": "[encoded data removed]",
      "text/plain": [
       "<Figure size 1000x600 with 2 Axes>"
      ]
     },
     "metadata": {},
     "output_type": "display_data"
    }
   ],
   "source": [
    "plt.figure(figsize=(10,6))\n",
    "sns.heatmap(data.corr(),annot=True,cmap='rainbow')"
   ]
  },
  {
   "cell_type": "code",
   "execution_count": 13,
   "id": "3df0d656",
   "metadata": {},
   "outputs": [
    {
     "data": {
      "text/plain": [
       "Text(0, 0.5, 'Total Population')"
      ]
     },
     "execution_count": 13,
     "metadata": {},
     "output_type": "execute_result"
    },
    {
     "data": {
      "image/png": "[encoded data removed]",
      "text/plain": [
       "<Figure size 640x480 with 1 Axes>"
      ]
     },
     "metadata": {},
     "output_type": "display_data"
    }
   ],
   "source": [
    "plt.scatter(data['Trade'],data['Population'])\n",
    "plt.xlabel('Trade')\n",
    "plt.ylabel('Total Population')"
   ]
  },
  {
   "cell_type": "code",
   "execution_count": 14,
   "id": "8d1524ac",
   "metadata": {},
   "outputs": [
    {
     "data": {
      "text/plain": [
       "Text(0, 0.5, 'Growth Change')"
      ]
     },
     "execution_count": 14,
     "metadata": {},
     "output_type": "execute_result"
    },
    {
     "data": {
      "image/png": "[encoded data removed]",
      "text/plain": [
       "<Figure size 640x480 with 1 Axes>"
      ]
     },
     "metadata": {},
     "output_type": "display_data"
    }
   ],
   "source": [
    "plt.scatter(data['Population'],data['Growth'])\n",
    "plt.xlabel('Total_Population')\n",
    "plt.ylabel('Growth Change')"
   ]
  },
  {
   "cell_type": "code",
   "execution_count": 15,
   "id": "a12a3296",
   "metadata": {},
   "outputs": [
    {
     "data": {
      "text/plain": [
       "Text(0, 0.5, 'Growth Change')"
      ]
     },
     "execution_count": 15,
     "metadata": {},
     "output_type": "execute_result"
    },
    {
     "data": {
      "image/png": "[encoded data removed]",
      "text/plain": [
       "<Figure size 640x480 with 1 Axes>"
      ]
     },
     "metadata": {},
     "output_type": "display_data"
    }
   ],
   "source": [
    "plt.scatter(data['Health'],data['Growth'])\n",
    "plt.xlabel('Total_Population')\n",
    "plt.ylabel('Growth Change')"
   ]
  },
  {
   "cell_type": "code",
   "execution_count": 16,
   "id": "927d8af7",
   "metadata": {},
   "outputs": [],
   "source": [
    "data.drop(columns=\"Health\",inplace=True)"
   ]
  },
  {
   "cell_type": "code",
   "execution_count": null,
   "id": "366e411a",
   "metadata": {},
   "outputs": [
    {
     "data": {
      "text/html": [
       "<div>\n",
       "<style scoped>\n",
       "    .dataframe tbody tr th:only-of-type {\n",
       "        vertical-align: middle;\n",
       "    }\n",
       "\n",
       "    .dataframe tbody tr th {\n",
       "        vertical-align: top;\n",
       "    }\n",
       "\n",
       "    .dataframe thead th {\n",
       "        text-align: right;\n",
       "    }\n",
       "</style>\n",
       "<table border=\"1\" class=\"dataframe\">\n",
       "  <thead>\n",
       "    <tr style=\"text-align: right;\">\n",
       "      <th></th>\n",
       "      <th>Population</th>\n",
       "      <th>PerCapita</th>\n",
       "      <th>Trade</th>\n",
       "      <th>Unemployment</th>\n",
       "      <th>Environment</th>\n",
       "      <th>Growth</th>\n",
       "    </tr>\n",
       "  </thead>\n",
       "  <tbody>\n",
       "    <tr>\n",
       "      <th>0</th>\n",
       "      <td>7945977</td>\n",
       "      <td>162.1844</td>\n",
       "      <td>-0.122353</td>\n",
       "      <td>13.82</td>\n",
       "      <td>10848.0</td>\n",
       "      <td>1.83</td>\n",
       "    </tr>\n",
       "    <tr>\n",
       "      <th>1</th>\n",
       "      <td>8091461</td>\n",
       "      <td>185.3671</td>\n",
       "      <td>-0.072269</td>\n",
       "      <td>13.03</td>\n",
       "      <td>11385.2</td>\n",
       "      <td>1.90</td>\n",
       "    </tr>\n",
       "    <tr>\n",
       "      <th>2</th>\n",
       "      <td>8245475</td>\n",
       "      <td>187.2283</td>\n",
       "      <td>-0.047386</td>\n",
       "      <td>12.27</td>\n",
       "      <td>12412.3</td>\n",
       "      <td>1.96</td>\n",
       "    </tr>\n",
       "    <tr>\n",
       "      <th>3</th>\n",
       "      <td>8406910</td>\n",
       "      <td>197.7579</td>\n",
       "      <td>-0.040201</td>\n",
       "      <td>11.35</td>\n",
       "      <td>12868.2</td>\n",
       "      <td>2.00</td>\n",
       "    </tr>\n",
       "    <tr>\n",
       "      <th>4</th>\n",
       "      <td>8575075</td>\n",
       "      <td>218.3510</td>\n",
       "      <td>-0.034844</td>\n",
       "      <td>10.60</td>\n",
       "      <td>13984.4</td>\n",
       "      <td>2.04</td>\n",
       "    </tr>\n",
       "  </tbody>\n",
       "</table>\n",
       "</div>"
      ],
      "text/plain": [
       "   Population  PerCapita     Trade  Unemployment  Environment  Growth\n",
       "0     7945977   162.1844 -0.122353         13.82      10848.0    1.83\n",
       "1     8091461   185.3671 -0.072269         13.03      11385.2    1.90\n",
       "2     8245475   187.2283 -0.047386         12.27      12412.3    1.96\n",
       "3     8406910   197.7579 -0.040201         11.35      12868.2    2.00\n",
       "4     8575075   218.3510 -0.034844         10.60      13984.4    2.04"
      ]
     },
     "execution_count": 192,
     "metadata": {},
     "output_type": "execute_result"
    }
   ],
   "source": [
    "data.head()"
   ]
  },
  {
   "cell_type": "code",
   "execution_count": 17,
   "id": "7ee8fc0f",
   "metadata": {},
   "outputs": [
    {
     "data": {
      "text/plain": [
       "Text(0, 0.5, 'Growth change %')"
      ]
     },
     "execution_count": 17,
     "metadata": {},
     "output_type": "execute_result"
    },
    {
     "data": {
      "image/png": "[encoded data removed]",
      "text/plain": [
       "<Figure size 640x480 with 1 Axes>"
      ]
     },
     "metadata": {},
     "output_type": "display_data"
    }
   ],
   "source": [
    "sns.regplot(x='Population',y='Growth',data=data)\n",
    "plt.xlabel('Total_Population')\n",
    "plt.ylabel('Growth change %')"
   ]
  },
  {
   "cell_type": "code",
   "execution_count": 18,
   "id": "a488abc3",
   "metadata": {},
   "outputs": [
    {
     "data": {
      "image/png": "[encoded data removed]",
      "text/plain": [
       "<Figure size 1500x500 with 6 Axes>"
      ]
     },
     "metadata": {},
     "output_type": "display_data"
    }
   ],
   "source": [
    "fig, axes = plt.subplots(1, len(data.columns), figsize=(15, 5))\n",
    "\n",
    "# Iterate through each column and create a boxplot\n",
    "for i, column in enumerate(data.columns):\n",
    "    sns.boxplot(data[column], ax=axes[i])\n",
    "    axes[i].set_title(column)\n",
    "# Adjust layout\n",
    "plt.tight_layout()\n",
    "\n",
    "plt.show()"
   ]
  },
  {
   "cell_type": "code",
   "execution_count": 19,
   "id": "780dcfd1",
   "metadata": {},
   "outputs": [],
   "source": [
    "# Dependent and independent data\n",
    "x=data.drop('Growth',axis=1)\n",
    "y=data['Growth']"
   ]
  },
  {
   "cell_type": "code",
   "execution_count": 20,
   "id": "e7105f52",
   "metadata": {},
   "outputs": [
    {
     "data": {
      "text/html": [
       "<div>\n",
       "<style scoped>\n",
       "    .dataframe tbody tr th:only-of-type {\n",
       "        vertical-align: middle;\n",
       "    }\n",
       "\n",
       "    .dataframe tbody tr th {\n",
       "        vertical-align: top;\n",
       "    }\n",
       "\n",
       "    .dataframe thead th {\n",
       "        text-align: right;\n",
       "    }\n",
       "</style>\n",
       "<table border=\"1\" class=\"dataframe\">\n",
       "  <thead>\n",
       "    <tr style=\"text-align: right;\">\n",
       "      <th></th>\n",
       "      <th>Population</th>\n",
       "      <th>PerCapita</th>\n",
       "      <th>Trade</th>\n",
       "      <th>Unemployment</th>\n",
       "      <th>Environment</th>\n",
       "    </tr>\n",
       "  </thead>\n",
       "  <tbody>\n",
       "    <tr>\n",
       "      <th>0</th>\n",
       "      <td>7945977</td>\n",
       "      <td>162.1844</td>\n",
       "      <td>-0.122353</td>\n",
       "      <td>13.82</td>\n",
       "      <td>10848.0</td>\n",
       "    </tr>\n",
       "    <tr>\n",
       "      <th>1</th>\n",
       "      <td>8091461</td>\n",
       "      <td>185.3671</td>\n",
       "      <td>-0.072269</td>\n",
       "      <td>13.03</td>\n",
       "      <td>11385.2</td>\n",
       "    </tr>\n",
       "    <tr>\n",
       "      <th>2</th>\n",
       "      <td>8245475</td>\n",
       "      <td>187.2283</td>\n",
       "      <td>-0.047386</td>\n",
       "      <td>12.27</td>\n",
       "      <td>12412.3</td>\n",
       "    </tr>\n",
       "    <tr>\n",
       "      <th>3</th>\n",
       "      <td>8406910</td>\n",
       "      <td>197.7579</td>\n",
       "      <td>-0.040201</td>\n",
       "      <td>11.35</td>\n",
       "      <td>12868.2</td>\n",
       "    </tr>\n",
       "    <tr>\n",
       "      <th>4</th>\n",
       "      <td>8575075</td>\n",
       "      <td>218.3510</td>\n",
       "      <td>-0.034844</td>\n",
       "      <td>10.60</td>\n",
       "      <td>13984.4</td>\n",
       "    </tr>\n",
       "  </tbody>\n",
       "</table>\n",
       "</div>"
      ],
      "text/plain": [
       "   Population  PerCapita     Trade  Unemployment  Environment\n",
       "0     7945977   162.1844 -0.122353         13.82      10848.0\n",
       "1     8091461   185.3671 -0.072269         13.03      11385.2\n",
       "2     8245475   187.2283 -0.047386         12.27      12412.3\n",
       "3     8406910   197.7579 -0.040201         11.35      12868.2\n",
       "4     8575075   218.3510 -0.034844         10.60      13984.4"
      ]
     },
     "execution_count": 20,
     "metadata": {},
     "output_type": "execute_result"
    }
   ],
   "source": [
    "x.head()"
   ]
  },
  {
   "cell_type": "code",
   "execution_count": 21,
   "id": "7fec3aeb",
   "metadata": {},
   "outputs": [
    {
     "data": {
      "text/plain": [
       "0    1.83\n",
       "1    1.90\n",
       "2    1.96\n",
       "3    2.00\n",
       "4    2.04\n",
       "Name: Growth, dtype: float64"
      ]
     },
     "execution_count": 21,
     "metadata": {},
     "output_type": "execute_result"
    }
   ],
   "source": [
    "y.head()"
   ]
  },
  {
   "cell_type": "code",
   "execution_count": 22,
   "id": "c7238c4d",
   "metadata": {},
   "outputs": [],
   "source": [
    "from sklearn.model_selection import train_test_split\n",
    "x_train,x_test,y_train,y_test=train_test_split(x,y,test_size=0.2)"
   ]
  },
  {
   "cell_type": "code",
   "execution_count": 23,
   "id": "ac1daacc",
   "metadata": {},
   "outputs": [
    {
     "name": "stdout",
     "output_type": "stream",
     "text": [
      "x_test shape: (15, 5)\n",
      "y_test shape: (15,)\n",
      "x_train shape: (59, 5)\n",
      "y_train shape: (59,)\n"
     ]
    }
   ],
   "source": [
    "print('x_test shape:',x_test.shape)\n",
    "print('y_test shape:',y_test.shape)\n",
    "print('x_train shape:',x_train.shape)\n",
    "print('y_train shape:',y_train.shape)"
   ]
  },
  {
   "cell_type": "markdown",
   "id": "bb6fb032",
   "metadata": {},
   "source": [
    "# Create an Evaluate Function to give all metrics after model Training"
   ]
  },
  {
   "cell_type": "code",
   "execution_count": 24,
   "id": "7b4263eb",
   "metadata": {},
   "outputs": [],
   "source": [
    "def evaluate_model(true, predicted):\n",
    "    mae = mean_absolute_error(true, predicted)\n",
    "    mse = mean_squared_error(true, predicted)\n",
    "    rmse = np.sqrt(mean_squared_error(true, predicted))\n",
    "    r2_square = r2_score(true, predicted)\n",
    "    return mae, rmse, r2_square"
   ]
  },
  {
   "cell_type": "code",
   "execution_count": 26,
   "id": "58d0465f",
   "metadata": {},
   "outputs": [
    {
     "name": "stdout",
     "output_type": "stream",
     "text": [
      "Linear Regression\n",
      "Model performance for Training set\n",
      "- Root Mean Squared Error: 0.1824\n",
      "- Mean Absolute Error: 0.1574\n",
      "- R2 Score: 0.9326\n",
      "----------------------------------\n",
      "Model performance for Test set\n",
      "- Root Mean Squared Error: 0.2001\n",
      "- Mean Absolute Error: 0.1799\n",
      "- R2 Score: 0.9200\n",
      "===================================\n",
      "\n",
      "\n",
      "Lasso\n",
      "Model performance for Training set\n",
      "- Root Mean Squared Error: 0.2245\n",
      "- Mean Absolute Error: 0.1815\n",
      "- R2 Score: 0.8979\n",
      "----------------------------------\n",
      "Model performance for Test set\n",
      "- Root Mean Squared Error: 0.2317\n",
      "- Mean Absolute Error: 0.1940\n",
      "- R2 Score: 0.8928\n",
      "===================================\n",
      "\n",
      "\n",
      "Ridge\n",
      "Model performance for Training set\n",
      "- Root Mean Squared Error: 0.1824\n",
      "- Mean Absolute Error: 0.1574\n",
      "- R2 Score: 0.9326\n",
      "----------------------------------\n",
      "Model performance for Test set\n",
      "- Root Mean Squared Error: 0.2001\n",
      "- Mean Absolute Error: 0.1798\n",
      "- R2 Score: 0.9200\n",
      "===================================\n",
      "\n",
      "\n",
      "K-Neighbors Regressor\n",
      "Model performance for Training set\n",
      "- Root Mean Squared Error: 0.0671\n",
      "- Mean Absolute Error: 0.0463\n",
      "- R2 Score: 0.9909\n",
      "----------------------------------\n",
      "Model performance for Test set\n",
      "- Root Mean Squared Error: 0.0623\n",
      "- Mean Absolute Error: 0.0489\n",
      "- R2 Score: 0.9922\n",
      "===================================\n",
      "\n",
      "\n",
      "Decision Tree\n",
      "Model performance for Training set\n",
      "- Root Mean Squared Error: 0.0000\n",
      "- Mean Absolute Error: 0.0000\n",
      "- R2 Score: 1.0000\n",
      "----------------------------------\n",
      "Model performance for Test set\n",
      "- Root Mean Squared Error: 0.0496\n",
      "- Mean Absolute Error: 0.0407\n",
      "- R2 Score: 0.9951\n",
      "===================================\n",
      "\n",
      "\n",
      "Random Forest Regressor\n",
      "Model performance for Training set\n",
      "- Root Mean Squared Error: 0.0404\n",
      "- Mean Absolute Error: 0.0305\n",
      "- R2 Score: 0.9967\n",
      "----------------------------------\n",
      "Model performance for Test set\n",
      "- Root Mean Squared Error: 0.0527\n",
      "- Mean Absolute Error: 0.0431\n",
      "- R2 Score: 0.9944\n",
      "===================================\n",
      "\n",
      "\n",
      "XGBRegressor\n",
      "Model performance for Training set\n",
      "- Root Mean Squared Error: 0.0007\n",
      "- Mean Absolute Error: 0.0005\n",
      "- R2 Score: 1.0000\n",
      "----------------------------------\n",
      "Model performance for Test set\n",
      "- Root Mean Squared Error: 0.0546\n",
      "- Mean Absolute Error: 0.0441\n",
      "- R2 Score: 0.9941\n",
      "===================================\n",
      "\n",
      "\n",
      "AdaBoost Regressor\n",
      "Model performance for Training set\n",
      "- Root Mean Squared Error: 0.0760\n",
      "- Mean Absolute Error: 0.0582\n",
      "- R2 Score: 0.9883\n",
      "----------------------------------\n",
      "Model performance for Test set\n",
      "- Root Mean Squared Error: 0.0957\n",
      "- Mean Absolute Error: 0.0772\n",
      "- R2 Score: 0.9817\n",
      "===================================\n",
      "\n",
      "\n"
     ]
    }
   ],
   "source": [
    "models = {\n",
    "    \"Linear Regression\": LinearRegression(),\n",
    "    \"Lasso\": Lasso(),\n",
    "    \"Ridge\": Ridge(),\n",
    "    \"K-Neighbors Regressor\": KNeighborsRegressor(),\n",
    "    \"Decision Tree\": DecisionTreeRegressor(),\n",
    "    \"Random Forest Regressor\": RandomForestRegressor(),\n",
    "    \"XGBRegressor\": XGBRegressor(), \n",
    "    \"AdaBoost Regressor\": AdaBoostRegressor()\n",
    "}\n",
    "model_list = []\n",
    "r2_list =[]\n",
    "\n",
    "for i in range(len(list(models))):\n",
    "    model = list(models.values())[i]\n",
    "    model.fit(x_train, y_train) # Train model\n",
    "\n",
    "    # Make predictions\n",
    "    y_train_pred = model.predict(x_train)\n",
    "    y_test_pred = model.predict(x_test)\n",
    "    \n",
    "    # Evaluate Train and Test dataset\n",
    "    model_train_mae , model_train_rmse, model_train_r2 = evaluate_model(y_train, y_train_pred)\n",
    "\n",
    "    model_test_mae , model_test_rmse, model_test_r2 = evaluate_model(y_test, y_test_pred)\n",
    "\n",
    "    \n",
    "    print(list(models.keys())[i])\n",
    "    model_list.append(list(models.keys())[i])\n",
    "    \n",
    "    print('Model performance for Training set')\n",
    "    print(\"- Root Mean Squared Error: {:.4f}\".format(model_train_rmse))\n",
    "    print(\"- Mean Absolute Error: {:.4f}\".format(model_train_mae))\n",
    "    print(\"- R2 Score: {:.4f}\".format(model_train_r2))\n",
    "\n",
    "    print('----------------------------------')\n",
    "    \n",
    "    print('Model performance for Test set')\n",
    "    print(\"- Root Mean Squared Error: {:.4f}\".format(model_test_rmse))\n",
    "    print(\"- Mean Absolute Error: {:.4f}\".format(model_test_mae))\n",
    "    print(\"- R2 Score: {:.4f}\".format(model_test_r2))\n",
    "    r2_list.append(model_test_r2)\n",
    "    \n",
    "    print('='*35)\n",
    "    print('\\n')"
   ]
  },
  {
   "cell_type": "code",
   "execution_count": 27,
   "id": "f4988f62",
   "metadata": {},
   "outputs": [],
   "source": [
    "#Scaling the sata\n",
    "from sklearn.preprocessing import StandardScaler\n",
    "scale=StandardScaler()"
   ]
  },
  {
   "cell_type": "code",
   "execution_count": 28,
   "id": "9e265b84",
   "metadata": {},
   "outputs": [
    {
     "data": {
      "text/plain": [
       "array([[-0.11227048, -0.60338821,  0.50388957, -1.06300735, -0.54226732],\n",
       "       [ 1.32998863,  2.29864918, -3.00296431, -1.41126249,  1.03109128],\n",
       "       [ 0.91622763,  0.01833411, -0.30613328,  0.05993779, -0.33655725],\n",
       "       [-0.38213886, -0.5755503 ,  0.5829136 ,  0.00307981, -1.1520672 ],\n",
       "       [-1.15925829, -0.66705267,  0.71160219, -0.16749414,  0.26386942],\n",
       "       [ 0.51723944, -0.36294972,  0.22182467,  2.13525413,  1.03109128],\n",
       "       [-1.5211345 , -0.63617762,  0.6941469 ,  1.71237289, -0.54226732],\n",
       "       [-0.32983839, -0.567251  ,  0.57362763,  0.05993779, -1.09841154],\n",
       "       [-0.89169022, -0.6597217 ,  0.73940731, -0.19236951,  1.81754026],\n",
       "       [-1.38040346, -0.5755503 ,  0.5829136 ,  0.34067408, -0.33803934],\n",
       "       [ 0.66649838, -0.20734892,  0.0264431 ,  1.11536408, -1.65760006],\n",
       "       [ 0.99753917,  0.28997461, -1.04289897, -0.6081435 , -0.02169326],\n",
       "       [-1.05593987, -0.67035736,  0.72390103,  0.1949755 ,  0.07123779],\n",
       "       [ 1.04200345,  0.43062691, -1.18283858, -0.79648556, -0.33803934],\n",
       "       [ 1.36317738,  2.48776299,  0.17416554, -1.3828335 ,  1.8121126 ]])"
      ]
     },
     "execution_count": 28,
     "metadata": {},
     "output_type": "execute_result"
    }
   ],
   "source": [
    "x_test_S=scale.fit_transform(x_test)\n",
    "x_test_S"
   ]
  },
  {
   "cell_type": "code",
   "execution_count": 29,
   "id": "8d91fab8",
   "metadata": {},
   "outputs": [
    {
     "data": {
      "text/plain": [
       "array([[-5.45419460e-01, -6.34785054e-01,  7.08366333e-01,\n",
       "        -1.67494138e-01, -1.66753407e+00],\n",
       "       [ 2.86884058e-01, -4.72724359e-01,  3.34338170e-01,\n",
       "        -1.41126249e+00, -2.04470992e-01],\n",
       "       [-6.59909710e-01, -6.53523156e-01,  6.65526001e-01,\n",
       "        -8.39129050e-01, -1.77138050e+00],\n",
       "       [-1.30057243e+00, -5.81698713e-01,  6.87540929e-01,\n",
       "         8.48842288e-01, -2.56764732e-01],\n",
       "       [ 7.94315151e-01, -1.52040548e-01,  1.74165544e-01,\n",
       "        -1.10636156e-01, -6.33656189e-01],\n",
       "       [ 1.89637137e-01, -4.96903746e-01,  3.27072138e-01,\n",
       "        -1.42903061e+00, -2.56764732e-01],\n",
       "       [ 8.76189052e-01, -4.29954132e-02,  8.48825749e-02,\n",
       "         3.07980735e-03, -5.42267321e-01],\n",
       "       [ 1.34737650e+00,  2.50842646e+00, -7.74337282e-01,\n",
       "        -1.47878135e+00,  1.81754026e+00],\n",
       "       [ 7.17450695e-01, -1.38154963e-01,  1.93212476e-01,\n",
       "         3.40674075e-01, -1.15206720e+00],\n",
       "       [ 5.60250795e-01, -3.40916574e-01,  1.71485910e-01,\n",
       "         1.99310917e+00,  1.81754026e+00],\n",
       "       [ 7.40888477e-01, -1.47449305e-01,  3.90104819e-02,\n",
       "         2.37618983e-01, -1.09841154e+00],\n",
       "       [-8.35134677e-01, -6.58897700e-01,  7.00629826e-01,\n",
       "        -6.08143498e-01,  1.81211260e+00],\n",
       "       [ 1.31100179e+00,  2.21075191e+00, -2.23888285e+00,\n",
       "        -1.31176102e+00,  6.74067840e-01],\n",
       "       [ 3.81700880e-01, -4.67174435e-01,  3.56254456e-01,\n",
       "        -1.38283350e+00,  6.70482785e-01],\n",
       "       [ 3.35335711e-01, -4.63593501e-01,  3.06340306e-01,\n",
       "        -1.47878135e+00,  2.63869417e-01],\n",
       "       [ 4.98856220e-02, -5.43761910e-01,  2.20364756e-01,\n",
       "        -1.45390598e+00, -2.16932565e-02],\n",
       "       [ 9.55450250e-01,  1.53297322e-01, -5.10042114e-01,\n",
       "        -1.92369506e-01, -2.45248493e-01],\n",
       "       [-2.23743903e-01, -5.57975585e-01,  8.21260805e-01,\n",
       "        -6.08143498e-01, -6.33656189e-01],\n",
       "       [-1.10815096e+00, -6.67051845e-01,  7.27621937e-01,\n",
       "        -1.10636156e-01,  6.70482785e-01],\n",
       "       [-1.48820276e+00, -6.34785054e-01,  7.08366333e-01,\n",
       "         1.44229747e+00, -3.36557248e-01],\n",
       "       [-5.59798630e-02, -5.73363202e-01,  2.16120870e-01,\n",
       "        -8.39129050e-01, -3.36557248e-01],\n",
       "       [ 1.39190857e+00,  2.10752650e+00,  8.48825749e-02,\n",
       "        -1.07011460e+00,  1.86967377e+00],\n",
       "       [-4.89866958e-01, -6.26906699e-01,  7.12472351e-01,\n",
       "        -1.10636156e-01, -1.65760006e+00],\n",
       "       [-1.34160143e+00, -5.67250998e-01,  5.73627635e-01,\n",
       "         1.11536408e+00, -1.00364191e-01],\n",
       "       [-4.35282219e-01, -6.11498730e-01,  7.15533795e-01,\n",
       "         1.94975496e-01, -1.14910302e+00],\n",
       "       [-2.76960603e-01, -5.81698713e-01,  6.87540929e-01,\n",
       "        -1.92369506e-01, -9.20580783e-01],\n",
       "       [ 9.68601862e-02, -5.27931801e-01,  2.89426850e-01,\n",
       "        -1.53919295e+00, -3.38039338e-01],\n",
       "       [-6.02271151e-01, -6.36177622e-01,  6.94146903e-01,\n",
       "         2.37618983e-01, -1.80282484e+00],\n",
       "       [-7.18153389e-01, -6.61103499e-01,  7.04900903e-01,\n",
       "        -1.06300735e+00,  1.86967377e+00],\n",
       "       [-1.20898882e+00, -5.57975585e-01,  6.60874145e-01,\n",
       "         2.37618983e-01, -2.04470992e-01],\n",
       "       [-1.69055674e-01, -6.33003565e-01,  6.60874145e-01,\n",
       "        -7.96485563e-01, -6.49859037e-01],\n",
       "       [-1.00238490e+00, -6.86610585e-01,  7.23139100e-01,\n",
       "         3.07980735e-03,  6.74067840e-01],\n",
       "       [-1.41772670e+00, -6.11498730e-01,  7.15533795e-01,\n",
       "         8.48842288e-01, -2.16932565e-02],\n",
       "       [ 8.35033895e-01, -1.27443286e-01,  1.20399568e-01,\n",
       "         1.94975496e-01, -6.49859037e-01],\n",
       "       [ 1.08626225e+00,  7.26806764e-01, -2.44878640e+00,\n",
       "        -1.06300735e+00, -1.00364191e-01],\n",
       "       [ 1.37792133e+00,  2.27984232e+00,  1.20399568e-01,\n",
       "        -1.25845667e+00,  1.52166304e+00],\n",
       "       [-1.39662066e-03, -5.57488650e-01,  3.29755135e-01,\n",
       "        -1.21936680e+00, -2.45248493e-01],\n",
       "       [ 1.12834989e+00,  7.61777887e-01, -8.25268881e-01,\n",
       "        -8.39129050e-01, -2.56764732e-01],\n",
       "       [ 1.29020964e+00,  2.13239222e+00, -2.20395821e+00,\n",
       "        -1.42903061e+00,  7.12377861e-02],\n",
       "       [-1.45368425e+00, -6.26906699e-01,  7.12472351e-01,\n",
       "         1.11536408e+00, -2.45248493e-01],\n",
       "       [ 1.41693954e+00,  1.73491286e+00, -5.10042114e-01,\n",
       "        -5.35294209e-01,  1.03109128e+00],\n",
       "       [-7.77127273e-01, -6.54633575e-01,  7.05226467e-01,\n",
       "        -7.96485563e-01,  1.52166304e+00],\n",
       "       [-9.47527537e-01, -6.83915307e-01,  7.19681212e-01,\n",
       "         5.99377893e-02,  1.03109128e+00],\n",
       "       [ 4.72793974e-01, -3.88219099e-01,  2.15262990e-01,\n",
       "        -1.07011460e+00,  6.74067840e-01],\n",
       "       [ 6.00050314e-01, -2.88120315e-01, -5.50323193e-02,\n",
       "         1.71237289e+00, -1.80282484e+00],\n",
       "       [ 1.20901805e+00,  1.65534579e+00, -2.69643595e+00,\n",
       "        -1.45390598e+00, -2.04470992e-01],\n",
       "       [ 1.16813808e+00,  1.34778192e+00, -2.73420205e+00,\n",
       "        -1.21936680e+00, -3.60771392e-01],\n",
       "       [ 6.35508157e-01, -2.38553480e-01, -4.18929581e-02,\n",
       "         1.44229747e+00, -1.66753407e+00],\n",
       "       [ 1.40438771e+00,  2.21366536e+00, -3.06133281e-01,\n",
       "        -1.05625547e+00,  1.55290710e+00],\n",
       "       [ 1.42647177e-01, -4.89990583e-01,  5.30313798e-01,\n",
       "        -1.41126249e+00, -1.00364191e-01],\n",
       "       [ 1.24267464e+00,  1.73304914e+00, -2.87369057e+00,\n",
       "        -1.53919295e+00,  2.63869417e-01],\n",
       "       [ 6.93572010e-01, -1.62813653e-01,  1.26450041e-01,\n",
       "         8.48842288e-01, -1.14910302e+00],\n",
       "       [ 7.63545164e-01, -1.24112702e-01, -2.54255867e-01,\n",
       "        -1.67494138e-01, -9.20580783e-01],\n",
       "       [ 1.43007598e+00,  2.12552844e+00, -8.25268881e-01,\n",
       "        -1.81708634e-01,  1.81754026e+00],\n",
       "       [ 1.26718068e+00,  1.95148157e+00, -2.99962790e+00,\n",
       "        -1.41126249e+00,  6.70482785e-01],\n",
       "       [-1.55224233e+00, -6.53523156e-01,  6.65526001e-01,\n",
       "         1.99310917e+00, -6.49859037e-01],\n",
       "       [ 4.27356156e-01, -4.25533542e-01,  3.73626968e-01,\n",
       "        -1.25845667e+00,  7.12377861e-02],\n",
       "       [ 2.37887797e-01, -4.81180407e-01,  3.10441757e-01,\n",
       "        -1.31176102e+00, -3.60771392e-01],\n",
       "       [-1.25637778e+00, -6.86610585e-01,  8.21260805e-01,\n",
       "         3.40674075e-01, -3.60771392e-01]])"
      ]
     },
     "execution_count": 29,
     "metadata": {},
     "output_type": "execute_result"
    }
   ],
   "source": [
    "x_train_S=scale.transform(x_train)\n",
    "x_train_S"
   ]
  },
  {
   "cell_type": "markdown",
   "id": "571efd02",
   "metadata": {},
   "source": [
    "# Model Training and Prediction"
   ]
  },
  {
   "cell_type": "code",
   "execution_count": 30,
   "id": "392921d4",
   "metadata": {},
   "outputs": [],
   "source": [
    "from sklearn.linear_model import LinearRegression\n",
    "reg=LinearRegression()"
   ]
  },
  {
   "cell_type": "code",
   "execution_count": 31,
   "id": "564fb1be",
   "metadata": {},
   "outputs": [
    {
     "data": {
      "text/html": [
       "<style>#sk-container-id-1 {\n",
       "  /* Definition of color scheme common for light and dark mode */\n",
       "  --sklearn-color-text: black;\n",
       "  --sklearn-color-line: gray;\n",
       "  /* Definition of color scheme for unfitted estimators */\n",
       "  --sklearn-color-unfitted-level-0: #fff5e6;\n",
       "  --sklearn-color-unfitted-level-1: #f6e4d2;\n",
       "  --sklearn-color-unfitted-level-2: #ffe0b3;\n",
       "  --sklearn-color-unfitted-level-3: chocolate;\n",
       "  /* Definition of color scheme for fitted estimators */\n",
       "  --sklearn-color-fitted-level-0: #f0f8ff;\n",
       "  --sklearn-color-fitted-level-1: #d4ebff;\n",
       "  --sklearn-color-fitted-level-2: #b3dbfd;\n",
       "  --sklearn-color-fitted-level-3: cornflowerblue;\n",
       "\n",
       "  /* Specific color for light theme */\n",
       "  --sklearn-color-text-on-default-background: var(--sg-text-color, var(--theme-code-foreground, var(--jp-content-font-color1, black)));\n",
       "  --sklearn-color-background: var(--sg-background-color, var(--theme-background, var(--jp-layout-color0, white)));\n",
       "  --sklearn-color-border-box: var(--sg-text-color, var(--theme-code-foreground, var(--jp-content-font-color1, black)));\n",
       "  --sklearn-color-icon: #696969;\n",
       "\n",
       "  @media (prefers-color-scheme: dark) {\n",
       "    /* Redefinition of color scheme for dark theme */\n",
       "    --sklearn-color-text-on-default-background: var(--sg-text-color, var(--theme-code-foreground, var(--jp-content-font-color1, white)));\n",
       "    --sklearn-color-background: var(--sg-background-color, var(--theme-background, var(--jp-layout-color0, #111)));\n",
       "    --sklearn-color-border-box: var(--sg-text-color, var(--theme-code-foreground, var(--jp-content-font-color1, white)));\n",
       "    --sklearn-color-icon: #878787;\n",
       "  }\n",
       "}\n",
       "\n",
       "#sk-container-id-1 {\n",
       "  color: var(--sklearn-color-text);\n",
       "}\n",
       "\n",
       "#sk-container-id-1 pre {\n",
       "  padding: 0;\n",
       "}\n",
       "\n",
       "#sk-container-id-1 input.sk-hidden--visually {\n",
       "  border: 0;\n",
       "  clip: rect(1px 1px 1px 1px);\n",
       "  clip: rect(1px, 1px, 1px, 1px);\n",
       "  height: 1px;\n",
       "  margin: -1px;\n",
       "  overflow: hidden;\n",
       "  padding: 0;\n",
       "  position: absolute;\n",
       "  width: 1px;\n",
       "}\n",
       "\n",
       "#sk-container-id-1 div.sk-dashed-wrapped {\n",
       "  border: 1px dashed var(--sklearn-color-line);\n",
       "  margin: 0 0.4em 0.5em 0.4em;\n",
       "  box-sizing: border-box;\n",
       "  padding-bottom: 0.4em;\n",
       "  background-color: var(--sklearn-color-background);\n",
       "}\n",
       "\n",
       "#sk-container-id-1 div.sk-container {\n",
       "  /* jupyter's `normalize.less` sets `[hidden] { display: none; }`\n",
       "     but bootstrap.min.css set `[hidden] { display: none !important; }`\n",
       "     so we also need the `!important` here to be able to override the\n",
       "     default hidden behavior on the sphinx rendered scikit-learn.org.\n",
       "     See: https://github.com/scikit-learn/scikit-learn/issues/21755 */\n",
       "  display: inline-block !important;\n",
       "  position: relative;\n",
       "}\n",
       "\n",
       "#sk-container-id-1 div.sk-text-repr-fallback {\n",
       "  display: none;\n",
       "}\n",
       "\n",
       "div.sk-parallel-item,\n",
       "div.sk-serial,\n",
       "div.sk-item {\n",
       "  /* draw centered vertical line to link estimators */\n",
       "  background-image: linear-gradient(var(--sklearn-color-text-on-default-background), var(--sklearn-color-text-on-default-background));\n",
       "  background-size: 2px 100%;\n",
       "  background-repeat: no-repeat;\n",
       "  background-position: center center;\n",
       "}\n",
       "\n",
       "/* Parallel-specific style estimator block */\n",
       "\n",
       "#sk-container-id-1 div.sk-parallel-item::after {\n",
       "  content: \"\";\n",
       "  width: 100%;\n",
       "  border-bottom: 2px solid var(--sklearn-color-text-on-default-background);\n",
       "  flex-grow: 1;\n",
       "}\n",
       "\n",
       "#sk-container-id-1 div.sk-parallel {\n",
       "  display: flex;\n",
       "  align-items: stretch;\n",
       "  justify-content: center;\n",
       "  background-color: var(--sklearn-color-background);\n",
       "  position: relative;\n",
       "}\n",
       "\n",
       "#sk-container-id-1 div.sk-parallel-item {\n",
       "  display: flex;\n",
       "  flex-direction: column;\n",
       "}\n",
       "\n",
       "#sk-container-id-1 div.sk-parallel-item:first-child::after {\n",
       "  align-self: flex-end;\n",
       "  width: 50%;\n",
       "}\n",
       "\n",
       "#sk-container-id-1 div.sk-parallel-item:last-child::after {\n",
       "  align-self: flex-start;\n",
       "  width: 50%;\n",
       "}\n",
       "\n",
       "#sk-container-id-1 div.sk-parallel-item:only-child::after {\n",
       "  width: 0;\n",
       "}\n",
       "\n",
       "/* Serial-specific style estimator block */\n",
       "\n",
       "#sk-container-id-1 div.sk-serial {\n",
       "  display: flex;\n",
       "  flex-direction: column;\n",
       "  align-items: center;\n",
       "  background-color: var(--sklearn-color-background);\n",
       "  padding-right: 1em;\n",
       "  padding-left: 1em;\n",
       "}\n",
       "\n",
       "\n",
       "/* Toggleable style: style used for estimator/Pipeline/ColumnTransformer box that is\n",
       "clickable and can be expanded/collapsed.\n",
       "- Pipeline and ColumnTransformer use this feature and define the default style\n",
       "- Estimators will overwrite some part of the style using the `sk-estimator` class\n",
       "*/\n",
       "\n",
       "/* Pipeline and ColumnTransformer style (default) */\n",
       "\n",
       "#sk-container-id-1 div.sk-toggleable {\n",
       "  /* Default theme specific background. It is overwritten whether we have a\n",
       "  specific estimator or a Pipeline/ColumnTransformer */\n",
       "  background-color: var(--sklearn-color-background);\n",
       "}\n",
       "\n",
       "/* Toggleable label */\n",
       "#sk-container-id-1 label.sk-toggleable__label {\n",
       "  cursor: pointer;\n",
       "  display: block;\n",
       "  width: 100%;\n",
       "  margin-bottom: 0;\n",
       "  padding: 0.5em;\n",
       "  box-sizing: border-box;\n",
       "  text-align: center;\n",
       "}\n",
       "\n",
       "#sk-container-id-1 label.sk-toggleable__label-arrow:before {\n",
       "  /* Arrow on the left of the label */\n",
       "  content: \"▸\";\n",
       "  float: left;\n",
       "  margin-right: 0.25em;\n",
       "  color: var(--sklearn-color-icon);\n",
       "}\n",
       "\n",
       "#sk-container-id-1 label.sk-toggleable__label-arrow:hover:before {\n",
       "  color: var(--sklearn-color-text);\n",
       "}\n",
       "\n",
       "/* Toggleable content - dropdown */\n",
       "\n",
       "#sk-container-id-1 div.sk-toggleable__content {\n",
       "  max-height: 0;\n",
       "  max-width: 0;\n",
       "  overflow: hidden;\n",
       "  text-align: left;\n",
       "  /* unfitted */\n",
       "  background-color: var(--sklearn-color-unfitted-level-0);\n",
       "}\n",
       "\n",
       "#sk-container-id-1 div.sk-toggleable__content.fitted {\n",
       "  /* fitted */\n",
       "  background-color: var(--sklearn-color-fitted-level-0);\n",
       "}\n",
       "\n",
       "#sk-container-id-1 div.sk-toggleable__content pre {\n",
       "  margin: 0.2em;\n",
       "  border-radius: 0.25em;\n",
       "  color: var(--sklearn-color-text);\n",
       "  /* unfitted */\n",
       "  background-color: var(--sklearn-color-unfitted-level-0);\n",
       "}\n",
       "\n",
       "#sk-container-id-1 div.sk-toggleable__content.fitted pre {\n",
       "  /* unfitted */\n",
       "  background-color: var(--sklearn-color-fitted-level-0);\n",
       "}\n",
       "\n",
       "#sk-container-id-1 input.sk-toggleable__control:checked~div.sk-toggleable__content {\n",
       "  /* Expand drop-down */\n",
       "  max-height: 200px;\n",
       "  max-width: 100%;\n",
       "  overflow: auto;\n",
       "}\n",
       "\n",
       "#sk-container-id-1 input.sk-toggleable__control:checked~label.sk-toggleable__label-arrow:before {\n",
       "  content: \"▾\";\n",
       "}\n",
       "\n",
       "/* Pipeline/ColumnTransformer-specific style */\n",
       "\n",
       "#sk-container-id-1 div.sk-label input.sk-toggleable__control:checked~label.sk-toggleable__label {\n",
       "  color: var(--sklearn-color-text);\n",
       "  background-color: var(--sklearn-color-unfitted-level-2);\n",
       "}\n",
       "\n",
       "#sk-container-id-1 div.sk-label.fitted input.sk-toggleable__control:checked~label.sk-toggleable__label {\n",
       "  background-color: var(--sklearn-color-fitted-level-2);\n",
       "}\n",
       "\n",
       "/* Estimator-specific style */\n",
       "\n",
       "/* Colorize estimator box */\n",
       "#sk-container-id-1 div.sk-estimator input.sk-toggleable__control:checked~label.sk-toggleable__label {\n",
       "  /* unfitted */\n",
       "  background-color: var(--sklearn-color-unfitted-level-2);\n",
       "}\n",
       "\n",
       "#sk-container-id-1 div.sk-estimator.fitted input.sk-toggleable__control:checked~label.sk-toggleable__label {\n",
       "  /* fitted */\n",
       "  background-color: var(--sklearn-color-fitted-level-2);\n",
       "}\n",
       "\n",
       "#sk-container-id-1 div.sk-label label.sk-toggleable__label,\n",
       "#sk-container-id-1 div.sk-label label {\n",
       "  /* The background is the default theme color */\n",
       "  color: var(--sklearn-color-text-on-default-background);\n",
       "}\n",
       "\n",
       "/* On hover, darken the color of the background */\n",
       "#sk-container-id-1 div.sk-label:hover label.sk-toggleable__label {\n",
       "  color: var(--sklearn-color-text);\n",
       "  background-color: var(--sklearn-color-unfitted-level-2);\n",
       "}\n",
       "\n",
       "/* Label box, darken color on hover, fitted */\n",
       "#sk-container-id-1 div.sk-label.fitted:hover label.sk-toggleable__label.fitted {\n",
       "  color: var(--sklearn-color-text);\n",
       "  background-color: var(--sklearn-color-fitted-level-2);\n",
       "}\n",
       "\n",
       "/* Estimator label */\n",
       "\n",
       "#sk-container-id-1 div.sk-label label {\n",
       "  font-family: monospace;\n",
       "  font-weight: bold;\n",
       "  display: inline-block;\n",
       "  line-height: 1.2em;\n",
       "}\n",
       "\n",
       "#sk-container-id-1 div.sk-label-container {\n",
       "  text-align: center;\n",
       "}\n",
       "\n",
       "/* Estimator-specific */\n",
       "#sk-container-id-1 div.sk-estimator {\n",
       "  font-family: monospace;\n",
       "  border: 1px dotted var(--sklearn-color-border-box);\n",
       "  border-radius: 0.25em;\n",
       "  box-sizing: border-box;\n",
       "  margin-bottom: 0.5em;\n",
       "  /* unfitted */\n",
       "  background-color: var(--sklearn-color-unfitted-level-0);\n",
       "}\n",
       "\n",
       "#sk-container-id-1 div.sk-estimator.fitted {\n",
       "  /* fitted */\n",
       "  background-color: var(--sklearn-color-fitted-level-0);\n",
       "}\n",
       "\n",
       "/* on hover */\n",
       "#sk-container-id-1 div.sk-estimator:hover {\n",
       "  /* unfitted */\n",
       "  background-color: var(--sklearn-color-unfitted-level-2);\n",
       "}\n",
       "\n",
       "#sk-container-id-1 div.sk-estimator.fitted:hover {\n",
       "  /* fitted */\n",
       "  background-color: var(--sklearn-color-fitted-level-2);\n",
       "}\n",
       "\n",
       "/* Specification for estimator info (e.g. \"i\" and \"?\") */\n",
       "\n",
       "/* Common style for \"i\" and \"?\" */\n",
       "\n",
       ".sk-estimator-doc-link,\n",
       "a:link.sk-estimator-doc-link,\n",
       "a:visited.sk-estimator-doc-link {\n",
       "  float: right;\n",
       "  font-size: smaller;\n",
       "  line-height: 1em;\n",
       "  font-family: monospace;\n",
       "  background-color: var(--sklearn-color-background);\n",
       "  border-radius: 1em;\n",
       "  height: 1em;\n",
       "  width: 1em;\n",
       "  text-decoration: none !important;\n",
       "  margin-left: 1ex;\n",
       "  /* unfitted */\n",
       "  border: var(--sklearn-color-unfitted-level-1) 1pt solid;\n",
       "  color: var(--sklearn-color-unfitted-level-1);\n",
       "}\n",
       "\n",
       ".sk-estimator-doc-link.fitted,\n",
       "a:link.sk-estimator-doc-link.fitted,\n",
       "a:visited.sk-estimator-doc-link.fitted {\n",
       "  /* fitted */\n",
       "  border: var(--sklearn-color-fitted-level-1) 1pt solid;\n",
       "  color: var(--sklearn-color-fitted-level-1);\n",
       "}\n",
       "\n",
       "/* On hover */\n",
       "div.sk-estimator:hover .sk-estimator-doc-link:hover,\n",
       ".sk-estimator-doc-link:hover,\n",
       "div.sk-label-container:hover .sk-estimator-doc-link:hover,\n",
       ".sk-estimator-doc-link:hover {\n",
       "  /* unfitted */\n",
       "  background-color: var(--sklearn-color-unfitted-level-3);\n",
       "  color: var(--sklearn-color-background);\n",
       "  text-decoration: none;\n",
       "}\n",
       "\n",
       "div.sk-estimator.fitted:hover .sk-estimator-doc-link.fitted:hover,\n",
       ".sk-estimator-doc-link.fitted:hover,\n",
       "div.sk-label-container:hover .sk-estimator-doc-link.fitted:hover,\n",
       ".sk-estimator-doc-link.fitted:hover {\n",
       "  /* fitted */\n",
       "  background-color: var(--sklearn-color-fitted-level-3);\n",
       "  color: var(--sklearn-color-background);\n",
       "  text-decoration: none;\n",
       "}\n",
       "\n",
       "/* Span, style for the box shown on hovering the info icon */\n",
       ".sk-estimator-doc-link span {\n",
       "  display: none;\n",
       "  z-index: 9999;\n",
       "  position: relative;\n",
       "  font-weight: normal;\n",
       "  right: .2ex;\n",
       "  padding: .5ex;\n",
       "  margin: .5ex;\n",
       "  width: min-content;\n",
       "  min-width: 20ex;\n",
       "  max-width: 50ex;\n",
       "  color: var(--sklearn-color-text);\n",
       "  box-shadow: 2pt 2pt 4pt #999;\n",
       "  /* unfitted */\n",
       "  background: var(--sklearn-color-unfitted-level-0);\n",
       "  border: .5pt solid var(--sklearn-color-unfitted-level-3);\n",
       "}\n",
       "\n",
       ".sk-estimator-doc-link.fitted span {\n",
       "  /* fitted */\n",
       "  background: var(--sklearn-color-fitted-level-0);\n",
       "  border: var(--sklearn-color-fitted-level-3);\n",
       "}\n",
       "\n",
       ".sk-estimator-doc-link:hover span {\n",
       "  display: block;\n",
       "}\n",
       "\n",
       "/* \"?\"-specific style due to the `<a>` HTML tag */\n",
       "\n",
       "#sk-container-id-1 a.estimator_doc_link {\n",
       "  float: right;\n",
       "  font-size: 1rem;\n",
       "  line-height: 1em;\n",
       "  font-family: monospace;\n",
       "  background-color: var(--sklearn-color-background);\n",
       "  border-radius: 1rem;\n",
       "  height: 1rem;\n",
       "  width: 1rem;\n",
       "  text-decoration: none;\n",
       "  /* unfitted */\n",
       "  color: var(--sklearn-color-unfitted-level-1);\n",
       "  border: var(--sklearn-color-unfitted-level-1) 1pt solid;\n",
       "}\n",
       "\n",
       "#sk-container-id-1 a.estimator_doc_link.fitted {\n",
       "  /* fitted */\n",
       "  border: var(--sklearn-color-fitted-level-1) 1pt solid;\n",
       "  color: var(--sklearn-color-fitted-level-1);\n",
       "}\n",
       "\n",
       "/* On hover */\n",
       "#sk-container-id-1 a.estimator_doc_link:hover {\n",
       "  /* unfitted */\n",
       "  background-color: var(--sklearn-color-unfitted-level-3);\n",
       "  color: var(--sklearn-color-background);\n",
       "  text-decoration: none;\n",
       "}\n",
       "\n",
       "#sk-container-id-1 a.estimator_doc_link.fitted:hover {\n",
       "  /* fitted */\n",
       "  background-color: var(--sklearn-color-fitted-level-3);\n",
       "}\n",
       "</style><div id=\"sk-container-id-1\" class=\"sk-top-container\"><div class=\"sk-text-repr-fallback\"><pre>LinearRegression()</pre><b>In a Jupyter environment, please rerun this cell to show the HTML representation or trust the notebook. <br />On GitHub, the HTML representation is unable to render, please try loading this page with nbviewer.org.</b></div><div class=\"sk-container\" hidden><div class=\"sk-item\"><div class=\"sk-estimator fitted sk-toggleable\"><input class=\"sk-toggleable__control sk-hidden--visually\" id=\"sk-estimator-id-1\" type=\"checkbox\" checked><label for=\"sk-estimator-id-1\" class=\"sk-toggleable__label fitted sk-toggleable__label-arrow fitted\">&nbsp;&nbsp;LinearRegression<a class=\"sk-estimator-doc-link fitted\" rel=\"noreferrer\" target=\"_blank\" href=\"https://scikit-learn.org/1.4/modules/generated/sklearn.linear_model.LinearRegression.html\">?<span>Documentation for LinearRegression</span></a><span class=\"sk-estimator-doc-link fitted\">i<span>Fitted</span></span></label><div class=\"sk-toggleable__content fitted\"><pre>LinearRegression()</pre></div> </div></div></div></div>"
      ],
      "text/plain": [
       "LinearRegression()"
      ]
     },
     "execution_count": 31,
     "metadata": {},
     "output_type": "execute_result"
    }
   ],
   "source": [
    "reg.fit(x_train_S,y_train)"
   ]
  },
  {
   "cell_type": "code",
   "execution_count": 32,
   "id": "49ad7db0",
   "metadata": {},
   "outputs": [
    {
     "name": "stdout",
     "output_type": "stream",
     "text": [
      "[-0.67653191 -0.1863545  -0.06462143 -0.14036009  0.0328038 ]\n"
     ]
    }
   ],
   "source": [
    "print(reg.coef_)"
   ]
  },
  {
   "cell_type": "code",
   "execution_count": 33,
   "id": "0a9836fc",
   "metadata": {},
   "outputs": [
    {
     "name": "stdout",
     "output_type": "stream",
     "text": [
      "1.4236593083421931\n"
     ]
    }
   ],
   "source": [
    "print(reg.intercept_)"
   ]
  },
  {
   "cell_type": "code",
   "execution_count": 34,
   "id": "0fca5d6d",
   "metadata": {},
   "outputs": [
    {
     "data": {
      "text/plain": [
       "{'copy_X': True, 'fit_intercept': True, 'n_jobs': None, 'positive': False}"
      ]
     },
     "execution_count": 34,
     "metadata": {},
     "output_type": "execute_result"
    }
   ],
   "source": [
    "#on which parameters the model has been trained\n",
    "reg.get_params()"
   ]
  },
  {
   "cell_type": "code",
   "execution_count": 35,
   "id": "0e24808a",
   "metadata": {},
   "outputs": [
    {
     "name": "stderr",
     "output_type": "stream",
     "text": [
      "e:\\Projects\\Machine_learning\\Srilanka_Growth_Prediction\\Srilanka_Growth_Prediction\\venv\\lib\\site-packages\\sklearn\\base.py:486: UserWarning: X has feature names, but LinearRegression was fitted without feature names\n",
      "  warnings.warn(\n"
     ]
    },
    {
     "data": {
      "text/plain": [
       "array([ -9931418.77074699, -14495163.46274479, -13185688.53437793,\n",
       "        -9077667.64667325,  -6618621.93468827, -11922979.49053632,\n",
       "        -5473793.03085003,  -9243138.62258688,  -7464949.51676601,\n",
       "        -5919044.42771869, -12395710.61836515, -13442972.4450598 ,\n",
       "        -6945550.31957538, -13583743.33442024, -14600091.59050179])"
      ]
     },
     "execution_count": 35,
     "metadata": {},
     "output_type": "execute_result"
    }
   ],
   "source": [
    "#Prediction with test data\n",
    "reg_pred=reg.predict(x_test)\n",
    "reg_pred"
   ]
  },
  {
   "cell_type": "code",
   "execution_count": 36,
   "id": "ee165beb",
   "metadata": {},
   "outputs": [
    {
     "name": "stderr",
     "output_type": "stream",
     "text": [
      "e:\\Projects\\Machine_learning\\Srilanka_Growth_Prediction\\Srilanka_Growth_Prediction\\venv\\lib\\site-packages\\sklearn\\base.py:486: UserWarning: X has feature names, but LinearRegression was fitted without feature names\n",
      "  warnings.warn(\n"
     ]
    },
    {
     "data": {
      "text/plain": [
       "array([ -9931418.77074699, -14495163.46274479, -13185688.53437793,\n",
       "        -9077667.64667325,  -6618621.93468827, -11922979.49053632,\n",
       "        -5473793.03085003,  -9243138.62258688,  -7464949.51676601,\n",
       "        -5919044.42771869, -12395710.61836515, -13442972.4450598 ,\n",
       "        -6945550.31957538, -13583743.33442024, -14600091.59050179])"
      ]
     },
     "execution_count": 36,
     "metadata": {},
     "output_type": "execute_result"
    }
   ],
   "source": [
    "y_pred=reg.predict(x_test)\n",
    "y_pred"
   ]
  },
  {
   "cell_type": "code",
   "execution_count": 37,
   "id": "f25c191e",
   "metadata": {},
   "outputs": [
    {
     "data": {
      "text/plain": [
       "0.9326123050348424"
      ]
     },
     "execution_count": 37,
     "metadata": {},
     "output_type": "execute_result"
    }
   ],
   "source": [
    "reg.score(x_train_S,y_train)"
   ]
  },
  {
   "cell_type": "markdown",
   "id": "5f0b4bb1",
   "metadata": {},
   "source": [
    "# Assumption"
   ]
  },
  {
   "cell_type": "code",
   "execution_count": 38,
   "id": "6e6742b8",
   "metadata": {},
   "outputs": [
    {
     "data": {
      "text/plain": [
       "<matplotlib.collections.PathCollection at 0x21bbbe24c10>"
      ]
     },
     "execution_count": 38,
     "metadata": {},
     "output_type": "execute_result"
    },
    {
     "data": {
      "image/png": "[encoded data removed]",
      "text/plain": [
       "<Figure size 640x480 with 1 Axes>"
      ]
     },
     "metadata": {},
     "output_type": "display_data"
    }
   ],
   "source": [
    "#Scatter plot for prediction\n",
    "plt.scatter(y_test,reg_pred)\n",
    "\n",
    "#if the plot is linear prediction is almost good"
   ]
  },
  {
   "cell_type": "code",
   "execution_count": 39,
   "id": "1bd1ca82",
   "metadata": {},
   "outputs": [
    {
     "data": {
      "text/plain": [
       "15"
      ]
     },
     "execution_count": 39,
     "metadata": {},
     "output_type": "execute_result"
    }
   ],
   "source": [
    "#Residual or error\n",
    "residual=y_test-reg_pred\n",
    "residual.count()"
   ]
  },
  {
   "cell_type": "code",
   "execution_count": 40,
   "id": "edefb383",
   "metadata": {},
   "outputs": [
    {
     "data": {
      "text/plain": [
       "<seaborn.axisgrid.FacetGrid at 0x21bbbe41e50>"
      ]
     },
     "execution_count": 40,
     "metadata": {},
     "output_type": "execute_result"
    },
    {
     "data": {
      "image/png": "[encoded data removed]",
      "text/plain": [
       "<Figure size 500x500 with 1 Axes>"
      ]
     },
     "metadata": {},
     "output_type": "display_data"
    }
   ],
   "source": [
    "#plot this residual\n",
    "sns.displot(residual,kind='kde')"
   ]
  },
  {
   "cell_type": "code",
   "execution_count": 41,
   "id": "dcff0c1a",
   "metadata": {},
   "outputs": [
    {
     "data": {
      "text/plain": [
       "<matplotlib.collections.PathCollection at 0x21bbbec5eb0>"
      ]
     },
     "execution_count": 41,
     "metadata": {},
     "output_type": "execute_result"
    },
    {
     "data": {
      "image/png": "[encoded data removed]",
      "text/plain": [
       "<Figure size 640x480 with 1 Axes>"
      ]
     },
     "metadata": {},
     "output_type": "display_data"
    }
   ],
   "source": [
    "#Scatter plot respect to prediction and residual\n",
    "#Uniform Matrix\n",
    "plt.scatter(reg_pred,residual)"
   ]
  },
  {
   "cell_type": "markdown",
   "id": "49fd2c85",
   "metadata": {},
   "source": [
    "# Pickling the model file for deployment"
   ]
  },
  {
   "cell_type": "code",
   "execution_count": 42,
   "id": "e75ed3ac",
   "metadata": {},
   "outputs": [],
   "source": [
    "import pickle"
   ]
  },
  {
   "cell_type": "code",
   "execution_count": 43,
   "id": "254d5bc0",
   "metadata": {},
   "outputs": [],
   "source": [
    "pickle.dump(reg,open('regmodel.pkl','wb'))"
   ]
  },
  {
   "cell_type": "code",
   "execution_count": 44,
   "id": "f076589b",
   "metadata": {},
   "outputs": [],
   "source": [
    "pickled_model=pickle.load(open('regmodel.pkl','rb'))"
   ]
  },
  {
   "cell_type": "code",
   "execution_count": 45,
   "id": "9232e0f3",
   "metadata": {},
   "outputs": [],
   "source": [
    "pickle.dump(scale,open('scaling.pkl','wb'))"
   ]
  }
 ],
 "metadata": {
  "kernelspec": {
   "display_name": "Python 3 (ipykernel)",
   "language": "python",
   "name": "python3"
  },
  "language_info": {
   "codemirror_mode": {
    "name": "ipython",
    "version": 3
   },
   "file_extension": ".py",
   "mimetype": "text/x-python",
   "name": "python",
   "nbconvert_exporter": "python",
   "pygments_lexer": "ipython3",
   "version": "3.9.6"
  }
 },
 "nbformat": 4,
 "nbformat_minor": 5
}
